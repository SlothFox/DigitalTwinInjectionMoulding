{
 "cells": [
  {
   "cell_type": "markdown",
   "id": "quantitative-longer",
   "metadata": {},
   "source": [
    "Import necessary libraries"
   ]
  },
  {
   "cell_type": "code",
   "execution_count": 10,
   "id": "cathedral-deployment",
   "metadata": {},
   "outputs": [],
   "source": [
    "# -*- coding: utf-8 -*-\n",
    "import casadi as cs\n",
    "import matplotlib.pyplot as plt\n",
    "import numpy as np\n",
    "import pandas as pd\n",
    "\n",
    "from models.NN import MLP\n",
    "from optim.param_optim import HyperParameterPSO,ModelParameterEstimation"
   ]
  },
  {
   "cell_type": "markdown",
   "id": "funky-trunk",
   "metadata": {},
   "source": [
    "In the following the different possibilities of identifying models from data offered by the toolbox are illustrated. \n",
    "\n",
    "To begin with, data from a nonlinear system in state space represenation is gathered. Over all, 10 experiments (batches) are conducted, each of which has a length of $N=100$ time steps:"
   ]
  },
  {
   "cell_type": "markdown",
   "id": "substantial-yesterday",
   "metadata": {},
   "source": [
    "# Generate Identification Data"
   ]
  },
  {
   "cell_type": "code",
   "execution_count": 11,
   "id": "demanding-whale",
   "metadata": {},
   "outputs": [],
   "source": [
    "N = 100\n",
    "\n",
    "u = np.zeros((10,N-1,2))\n",
    "x = np.zeros((10,N,2))\n",
    "\n",
    "for i in range(0,10):\n",
    "\n",
    "    x_i = np.zeros((N,2))\n",
    "    u_i = np.random.normal(0,1,(N-1,2))\n",
    "\n",
    "    for k in range(1,100):\n",
    "        x_i[k,0] = 0.7*x_i[k-1,0]**2 - 0.1*x_i[k-1,1]**2 + 0.1*u_i[k-1,0] \n",
    "        x_i[k,1] = 0.3*x_i[k-1,0]**2 + 0.3*x_i[k-1,1]**2 - 0.5*u_i[k-1,1]\n",
    "    u[i,:,:] = u_i\n",
    "    x[i,:,:] = x_i\n",
    "\n",
    "\n",
    "init_state = x[:,0,:].reshape(10,2,1) \n",
    "data = {'u_train':u[0:8], 'y_train':x[0:8],'init_state_train': init_state[0:8],\n",
    "        'u_val':u[8::], 'y_val':x[8::],'init_state_val': init_state[8::]}\n"
   ]
  },
  {
   "cell_type": "markdown",
   "id": "daily-geology",
   "metadata": {},
   "source": [
    "The collected data is stored in a dictionary. In this case, the first $8$ experiments (or batches) are used as training data for parameter estimation and the last $2$ experiments are used as validation data, to ensure the generalization capability of the estimated model. The keys of the dictionary must have \\emph{exactly} these names. The dimensions of the data arrays are expected to have specific dimensions as well:\n",
    "\n",
    "input-data $u$ is expected to be a three-dimensional numpy array with dimensions $\\left[\\text{num. of batches}\\times \\text{num. of time-steps} \\times \\text{num. of inputs}\\right]$\n",
    "\n",
    "output-data $y$ is expected to be a three-dimensional numpy array with dimensions $\\left[\\text{num. of batches}\\times \\text{num. of time-steps} \\times \\text{num. of outputs}\\right]$\n",
    "\n",
    "initial-states $x(k=0)$ is expected to be a three-dimensional numpy array with dimensions $\\left[\\text{num. of batches}\\times \\text{num. of states} \\times 1\\right]$"
   ]
  },
  {
   "cell_type": "markdown",
   "id": "multiple-robertson",
   "metadata": {},
   "source": [
    "# Choose a model "
   ]
  },
  {
   "cell_type": "markdown",
   "id": "remarkable-print",
   "metadata": {},
   "source": [
    "In this case a Multilayer Perceptron (MLP) is chosen as modelling approach, the model eqations of the implemented MLP are\n",
    "\n",
    "$h_{k+1}=\\tanh(\\boldsymbol{W}_{\\mathrm{h}}\\cdot [\\boldsymbol{u}_{k}^T,\\boldsymbol{y}_{k-1}^T]^{T} + \\boldsymbol{b}_{\\mathrm{h}})$\n",
    "\n",
    "$y_{k+1}=\\tanh(\\boldsymbol{W}_{\\mathrm{o}}\\cdot \\boldsymbol{h}_{k+1} + \\boldsymbol{b}_{\\mathrm{o}})$\n",
    "\n"
   ]
  },
  {
   "cell_type": "code",
   "execution_count": 12,
   "id": "minor-bangladesh",
   "metadata": {},
   "outputs": [],
   "source": [
    "model = MLP(dim_u=2,dim_x=2,dim_hidden=10,name='Inject')"
   ]
  },
  {
   "cell_type": "markdown",
   "id": "photographic-capability",
   "metadata": {},
   "source": [
    "There are three functions available for parameter estimation with an increasing degree of automation:\n",
    "ModelParameterEstimation(): Estimates the optimal parameters of a given model and a given set of training data\n",
    "ModelTraining(): Estimates the optimal parameters of a given model. Optimal in this case means the parameters which result in the lowest validation error, while ModelParameterEstimation() returns the parameters that yield the lowest training error. Also a Multi-Start approach is implemented\n",
    "HyperParameterPSO(): Varies the structure of the model (number of states, number of neurons in hidden layer, etc.) in order to find the model structure best suited for the given data.\n"
   ]
  },
  {
   "cell_type": "markdown",
   "id": "eligible-practice",
   "metadata": {},
   "source": [
    "In the following, all of the implemented methods for parameter estimation will be employed, starting with ModelParameterEstimation():\n",
    "\n",
    "ModelParameterEstimation() must be provided with a model and a dictionary containing batches of training data. The dictionary defined above also contains validation data, which will simply be ignored by ModelParameterEstimation(). It returns a dictionary containing the optimal parameter values."
   ]
  },
  {
   "cell_type": "code",
   "execution_count": 13,
   "id": "fatty-hanging",
   "metadata": {},
   "outputs": [
    {
     "ename": "NotImplementedError",
     "evalue": "Wrong number or type of arguments for function 'Opti_solver'.\n  Prototype:\nsolver(self,str,dict,dict)\n  You have: '(Opti,str,NoneType,NoneType)'\n",
     "output_type": "error",
     "traceback": [
      "\u001b[1;31m---------------------------------------------------------------------------\u001b[0m",
      "\u001b[1;31mNotImplementedError\u001b[0m                       Traceback (most recent call last)",
      "\u001b[1;32m<ipython-input-13-91c96f7215e1>\u001b[0m in \u001b[0;36m<module>\u001b[1;34m\u001b[0m\n\u001b[1;32m----> 1\u001b[1;33m \u001b[0midentified_parameters\u001b[0m \u001b[1;33m=\u001b[0m \u001b[0mModelParameterEstimation\u001b[0m\u001b[1;33m(\u001b[0m\u001b[0mmodel\u001b[0m\u001b[1;33m,\u001b[0m\u001b[0mdata\u001b[0m\u001b[1;33m,\u001b[0m\u001b[0mp_opts\u001b[0m\u001b[1;33m=\u001b[0m\u001b[1;32mNone\u001b[0m\u001b[1;33m,\u001b[0m\u001b[0ms_opts\u001b[0m\u001b[1;33m=\u001b[0m\u001b[1;32mNone\u001b[0m\u001b[1;33m)\u001b[0m\u001b[1;33m\u001b[0m\u001b[1;33m\u001b[0m\u001b[0m\n\u001b[0m",
      "\u001b[1;32m~\\Documents\\GitHub\\DigitalTwinInjectionMoulding\\sandbox\\optim\\param_optim.py\u001b[0m in \u001b[0;36mModelParameterEstimation\u001b[1;34m(model, data, p_opts, s_opts)\u001b[0m\n\u001b[0;32m    375\u001b[0m \u001b[1;33m\u001b[0m\u001b[0m\n\u001b[0;32m    376\u001b[0m     \u001b[1;31m# Create Solver\u001b[0m\u001b[1;33m\u001b[0m\u001b[1;33m\u001b[0m\u001b[1;33m\u001b[0m\u001b[0m\n\u001b[1;32m--> 377\u001b[1;33m     \u001b[0mopti\u001b[0m\u001b[1;33m.\u001b[0m\u001b[0msolver\u001b[0m\u001b[1;33m(\u001b[0m\u001b[1;34m\"ipopt\"\u001b[0m\u001b[1;33m,\u001b[0m\u001b[0mp_opts\u001b[0m\u001b[1;33m,\u001b[0m \u001b[0ms_opts\u001b[0m\u001b[1;33m)\u001b[0m\u001b[1;33m\u001b[0m\u001b[1;33m\u001b[0m\u001b[0m\n\u001b[0m\u001b[0;32m    378\u001b[0m \u001b[1;33m\u001b[0m\u001b[0m\n\u001b[0;32m    379\u001b[0m \u001b[1;33m\u001b[0m\u001b[0m\n",
      "\u001b[1;32mE:\\anaconda\\envs\\Python38\\lib\\site-packages\\casadi\\casadi.py\u001b[0m in \u001b[0;36msolver\u001b[1;34m(self, *args)\u001b[0m\n\u001b[0;32m  27494\u001b[0m \u001b[1;33m\u001b[0m\u001b[0m\n\u001b[0;32m  27495\u001b[0m         \"\"\"\n\u001b[1;32m> 27496\u001b[1;33m         \u001b[1;32mreturn\u001b[0m \u001b[0m_casadi\u001b[0m\u001b[1;33m.\u001b[0m\u001b[0mOpti_solver\u001b[0m\u001b[1;33m(\u001b[0m\u001b[0mself\u001b[0m\u001b[1;33m,\u001b[0m \u001b[1;33m*\u001b[0m\u001b[0margs\u001b[0m\u001b[1;33m)\u001b[0m\u001b[1;33m\u001b[0m\u001b[1;33m\u001b[0m\u001b[0m\n\u001b[0m\u001b[0;32m  27497\u001b[0m \u001b[1;33m\u001b[0m\u001b[0m\n\u001b[0;32m  27498\u001b[0m \u001b[1;33m\u001b[0m\u001b[0m\n",
      "\u001b[1;31mNotImplementedError\u001b[0m: Wrong number or type of arguments for function 'Opti_solver'.\n  Prototype:\nsolver(self,str,dict,dict)\n  You have: '(Opti,str,NoneType,NoneType)'\n"
     ]
    }
   ],
   "source": [
    "identified_parameters = ModelParameterEstimation(model,data)"
   ]
  },
  {
   "cell_type": "code",
   "execution_count": null,
   "id": "racial-liability",
   "metadata": {},
   "outputs": [],
   "source": []
  }
 ],
 "metadata": {
  "kernelspec": {
   "display_name": "Python 3",
   "language": "python",
   "name": "python3"
  },
  "language_info": {
   "codemirror_mode": {
    "name": "ipython",
    "version": 3
   },
   "file_extension": ".py",
   "mimetype": "text/x-python",
   "name": "python",
   "nbconvert_exporter": "python",
   "pygments_lexer": "ipython3",
   "version": "3.8.8"
  }
 },
 "nbformat": 4,
 "nbformat_minor": 5
}
