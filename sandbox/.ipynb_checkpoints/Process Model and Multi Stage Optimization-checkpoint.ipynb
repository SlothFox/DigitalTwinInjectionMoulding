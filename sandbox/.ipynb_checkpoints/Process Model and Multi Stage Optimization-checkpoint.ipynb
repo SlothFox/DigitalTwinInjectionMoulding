{
 "cells": [
  {
   "cell_type": "markdown",
   "id": "operating-pittsburgh",
   "metadata": {},
   "source": [
    "# The Process Model Class and Multi Stage Optimization"
   ]
  },
  {
   "cell_type": "markdown",
   "id": "north-anxiety",
   "metadata": {},
   "source": [
    "After having successfuly identified dynamical models of the different phases of the injection moulding process, the goal is to use these models for optimal control during machine operation. For this purpose this Toolbox provides a class and a function, which allows the user to do so without having to formulate the optimization problem themselves."
   ]
  },
  {
   "cell_type": "markdown",
   "id": "chief-prophet",
   "metadata": {},
   "source": [
    "## The ProcessModel Class"
   ]
  },
  {
   "cell_type": "markdown",
   "id": "representative-sunset",
   "metadata": {},
   "source": [
    "The ProcessModel Class "
   ]
  }
 ],
 "metadata": {
  "kernelspec": {
   "display_name": "Python 3",
   "language": "python",
   "name": "python3"
  },
  "language_info": {
   "codemirror_mode": {
    "name": "ipython",
    "version": 3
   },
   "file_extension": ".py",
   "mimetype": "text/x-python",
   "name": "python",
   "nbconvert_exporter": "python",
   "pygments_lexer": "ipython3",
   "version": "3.8.8"
  }
 },
 "nbformat": 4,
 "nbformat_minor": 5
}
