{
 "cells": [
  {
   "cell_type": "markdown",
   "metadata": {},
   "source": [
    "# The Process Model Class and Multi Stage Optimization"
   ]
  },
  {
   "cell_type": "markdown",
   "metadata": {},
   "source": [
    "After having successfuly identified dynamical models of the different phases of the injection moulding process, the goal is to use these models for optimal control during machine operation. For this purpose this Toolbox provides a class and a function, which allows the user to do so without having to formulate the optimization problem themselves."
   ]
  },
  {
   "cell_type": "markdown",
   "metadata": {},
   "source": [
    "## The ProcessModel() Class"
   ]
  },
  {
   "cell_type": "markdown",
   "metadata": {},
   "source": [
    "The ProcessModel Class is a container which allows the user to\n",
    "- store the identified models for the different phases (injection, packing, cooling) of the injection molding process as subsystem-models\n",
    "- and parameterize the reference signals according to the needs of the user.\n",
    "\n",
    "An instance of the ProcessModel Class can be passed to different functions in order to\n",
    "- optimize the parameters of the reference signals in order to achieve a certain target trajectory or\n",
    "- update the parameters of the subsystem-models given new measurement data.\n",
    "\n",
    "In this tutorial, an instance of the ProcessModel Class will be used for the first purpose, i.e. Multi Stage Optimization."
   ]
  },
  {
   "cell_type": "markdown",
   "metadata": {},
   "source": [
    "### Subsystems"
   ]
  },
  {
   "cell_type": "markdown",
   "metadata": {},
   "source": [
    "It is assumed, that models for the different phases of the injection molding process have already been identified and validated. Any class from the model-structures module can be used as a subsystem in the ProcessModel Class. Even user-specified classes are possible, as long as the model equations are formulated as a casadi.Function() and it possesses a OneStepPrediction and Simulation method. For the purpose of this tutorial, instead of identifying models from data, they will be manually specified: "
   ]
  },
  {
   "cell_type": "code",
   "execution_count": 3,
   "metadata": {},
   "outputs": [],
   "source": [
    "import casadi as cs\n",
    "import matplotlib.pyplot as plt\n",
    "import numpy as np\n",
    "import pickle as pkl\n",
    "\n",
    "from models import injection_molding, model_structures\n",
    "from optim.control_optim import MultiStageOptimization"
   ]
  },
  {
   "cell_type": "code",
   "execution_count": 5,
   "metadata": {},
   "outputs": [],
   "source": [
    "dt = 1\n",
    "\n",
    "injection_model = model_structures.SecondOrderSystem(dt,'injection_model')\n",
    "injection_model.Parameters={'A':np.array([[0,1],[-1,-1]]),'b':np.array([[0],[1]]),'c':np.array([[1,0]])}\n",
    "\n",
    "packing_model = model_structures.FirstOrderSystem(dt,'packing_model')\n",
    "packing_model.Parameters={'a':-0.1,'b':0.5}\n",
    "\n",
    "cooling_model = model_structures.FirstOrderSystem(dt,'cooling_model')\n",
    "cooling_model.Parameters={'a':-0.6,'b':0}"
   ]
  },
  {
   "cell_type": "markdown",
   "metadata": {},
   "source": [
    "The First and Second-Order Systems were implemented as continuous-time equations which are integrated using a Runge-Kutta method, which is why a sampling time needs to be specified in this case. Notice also, that the parameter $b$ of the cooling model is equal to zero. Now, these models need to be passed to an instance of the ProcessModel Class. This is simply done, by passing them as a list to the subsystems attribute:"
   ]
  },
  {
   "cell_type": "code",
   "execution_count": 6,
   "metadata": {},
   "outputs": [],
   "source": [
    "ProcessModel = injection_molding.ProcessModel()\n",
    "ProcessModel.subsystems = [injection_model,packing_model,cooling_model]"
   ]
  },
  {
   "cell_type": "markdown",
   "metadata": {},
   "source": [
    "### Reference Trajectories"
   ]
  },
  {
   "cell_type": "markdown",
   "metadata": {},
   "source": [
    "In the following step, the reference signals need to be parameterized. This is necessary, because injection molding machines do not permit the specification of arbitrary reference signals. Usually these are designated to be step signals with two or three levels. The ProcessModel class expects the parameterized reference signals to be lambda functions with two arguments, the first beeing a dictionary containing the parameters, the second being the discrete time $k$. Furthermore, using truly discrete reference signals would result in an optimization problems with discrete variables. In order to circumvent this problem, the step signals are approximated via logistic functions with soft rather than hard transitions.\n",
    "\n",
    "If, for example the reference signal in the filling phase is a step signal with three levels and the reference signal in the holding phase is a step signal with two levels appropriate functions could be   "
   ]
  },
  {
   "cell_type": "code",
   "execution_count": 21,
   "metadata": {},
   "outputs": [],
   "source": [
    "W1 = lambda p,k: p['h1']+(p['h2']-p['h1'])/(1+np.exp(-2*(k-p['T1']))) + p['h2']+(p['h3']-p['h2'])/(1+np.exp(-2*(k-p['T2'])))\n",
    "W2 = lambda p,k: p['h4']+(p['h5']-p['h4'])/(1+np.exp(-2*(k-p['T3'])))"
   ]
  },
  {
   "cell_type": "markdown",
   "metadata": {},
   "source": [
    "To visualize these signals one has to provide a dictionary with parameters and a discrete time vector "
   ]
  },
  {
   "cell_type": "code",
   "execution_count": 32,
   "metadata": {},
   "outputs": [],
   "source": [
    "params = {'h1':np.array([[0]]),\n",
    "          'h2':np.array([[5]]),\n",
    "          'h3':np.array([[3]]),\n",
    "          'T1':np.array([[10]]),\n",
    "          'T2':np.array([[40]]),\n",
    "          'h4':np.array([[6]]),\n",
    "          'h5':np.array([[1]]),\n",
    "          'T3':np.array([[80]])}\n",
    "\n",
    "discrete_time = np.arange(0,120,1)"
   ]
  },
  {
   "cell_type": "markdown",
   "metadata": {},
   "source": [
    "It is important, that the keys of the parameter dictionary exactly match the keys used in the lambda functions, otherwise the optimizer won't be able to find them."
   ]
  },
  {
   "cell_type": "markdown",
   "metadata": {},
   "source": [
    "The lambda functions can then be evaluated by passing the parameter dictionary and the discrete time vector."
   ]
  },
  {
   "cell_type": "code",
   "execution_count": 33,
   "metadata": {},
   "outputs": [
    {
     "data": {
      "text/plain": [
       "<matplotlib.legend.Legend at 0x183641b9c70>"
      ]
     },
     "execution_count": 33,
     "metadata": {},
     "output_type": "execute_result"
    },
    {
     "data": {
      "image/png": "[encoded data removed]",
      "text/plain": [
       "<Figure size 432x288 with 1 Axes>"
      ]
     },
     "metadata": {
      "needs_background": "light"
     },
     "output_type": "display_data"
    }
   ],
   "source": [
    "plt.plot(W1(params,discrete_time).T,label='W1')\n",
    "plt.plot(W2(params,discrete_time).T,label='W2')\n",
    "plt.legend()"
   ]
  },
  {
   "cell_type": "markdown",
   "metadata": {},
   "source": [
    "The lambda functions need to be passed to the reference-attribute of the ProcessModel instance as a list in order for the optimization procedures to recognize them as the optimization target. The order must match the order of the subsystems."
   ]
  },
  {
   "cell_type": "code",
   "execution_count": 28,
   "metadata": {},
   "outputs": [],
   "source": [
    "ProcessModel.reference = [[W1],[W2],[]]"
   ]
  },
  {
   "cell_type": "markdown",
   "metadata": {},
   "source": [
    "The dictionary which contains initial estimates for the parameters of the reference trajectories must also be passed to the ProcessModel via the attribute ref_params"
   ]
  },
  {
   "cell_type": "code",
   "execution_count": 29,
   "metadata": {},
   "outputs": [],
   "source": [
    "ProcessModel.ref_params = params"
   ]
  },
  {
   "cell_type": "markdown",
   "metadata": {},
   "source": [
    "Finally, the switching instances, i.e. when the transition from one subsystem to the next, must be provided as a list of integers. Usually, these switching instances are not known and are also part of the optimization problem. This will be covered in another tutorial. For the sake of this tutorial, it is assumed, that the switching instances are known and fixed:  "
   ]
  },
  {
   "cell_type": "code",
   "execution_count": 34,
   "metadata": {},
   "outputs": [],
   "source": [
    "ProcessModel.switching_instances = [60,120]"
   ]
  },
  {
   "cell_type": "markdown",
   "metadata": {},
   "source": [
    "## The MultiStageOptimization() function"
   ]
  },
  {
   "cell_type": "markdown",
   "metadata": {},
   "source": [
    "Given an instance of the ProcessModel() Class and a target trajectory, the MultiStageOptimization() procedure optimizes the parameters of the reference trajectories, such that the mean squared error between the output predicted by the instance of ProcessModel() and the target trajectory is minimized."
   ]
  },
  {
   "cell_type": "markdown",
   "metadata": {},
   "source": []
  }
 ],
 "metadata": {
  "kernelspec": {
   "display_name": "Python 3",
   "language": "python",
   "name": "python3"
  },
  "language_info": {
   "codemirror_mode": {
    "name": "ipython",
    "version": 3
   },
   "file_extension": ".py",
   "mimetype": "text/x-python",
   "name": "python",
   "nbconvert_exporter": "python",
   "pygments_lexer": "ipython3",
   "version": "3.8.3"
  }
 },
 "nbformat": 4,
 "nbformat_minor": 5
}
